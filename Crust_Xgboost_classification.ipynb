{
 "cells": [
  {
   "cell_type": "code",
   "execution_count": 1,
   "id": "e5f21415",
   "metadata": {},
   "outputs": [],
   "source": [
    "import pandas as pd\n",
    "import os\n",
    "import sys\n",
    "import re\n",
    "import time\n",
    "import random\n",
    "from datetime import datetime, timedelta\n",
    "import math\n",
    "import gc\n",
    "import pickle\n",
    "import warnings\n",
    "warnings.filterwarnings('ignore')\n",
    "import matplotlib.pyplot as plt\n",
    "import seaborn as sns\n",
    "import numpy as np\n",
    "import scipy.stats as stats\n",
    "from sklearn.preprocessing import StandardScaler\n",
    "from sklearn.model_selection import train_test_split\n",
    "from sklearn.metrics import mean_squared_error, mean_absolute_error, r2_score, confusion_matrix, classification_report, accuracy_score, precision_score, recall_score, f1_score, roc_auc_score, roc_curve\n",
    "from sklearn.model_selection import GridSearchCV, RandomizedSearchCV\n",
    "from sklearn.linear_model import LogisticRegression\n",
    "from sklearn.tree import DecisionTreeClassifier\n",
    "from sklearn.ensemble import RandomForestClassifier, GradientBoostingClassifier, AdaBoostClassifier, ExtraTreesClassifier, VotingClassifier\n",
    "from sklearn.svm import SVC\n",
    "from sklearn.neighbors import KNeighborsClassifier\n",
    "from sklearn.naive_bayes import GaussianNB\n",
    "from sklearn.pipeline import Pipeline\n",
    "from sklearn.impute import SimpleImputer\n",
    "from sklearn.base import BaseEstimator, TransformerMixin\n",
    "from sklearn.compose import ColumnTransformer\n",
    "from sklearn.preprocessing import OneHotEncoder, OrdinalEncoder\n",
    "import xgboost as xgb\n",
    "from xgboost import XGBClassifier\n",
    "from sklearn.model_selection import cross_val_score, StratifiedKFold, KFold\n",
    "from sklearn.feature_selection import SelectFromModel\n",
    "from sklearn.decomposition import PCA\n",
    "from sklearn.discriminant_analysis import LinearDiscriminantAnalysis as LDA\n",
    "from sklearn.preprocessing import PowerTransformer\n",
    "from sklearn.feature_selection import SelectKBest, chi2\n",
    "import lightgbm as lgb\n",
    "from lightgbm import LGBMClassifier\n",
    "from imblearn.over_sampling import SMOTE\n",
    "from imblearn.under_sampling import RandomUnderSampler\n",
    "from imblearn.pipeline import Pipeline\n",
    "from imblearn.metrics import classification_report_imbalanced\n",
    "from collections import Counter\n",
    "from sklearn.utils import resample\n",
    "from sklearn.utils import shuffle\n",
    "import os\n",
    "import sys\n",
    "import re\n",
    "import time\n",
    "import random\n",
    "from datetime import datetime, timedelta\n",
    "import math\n",
    "import gc\n",
    "import pickle\n",
    "import warnings\n",
    "warnings.filterwarnings('ignore')\n",
    "import matplotlib.pyplot as plt\n",
    "import seaborn as sns\n",
    "import numpy as np\n",
    "import scipy.stats as stats\n",
    "from sklearn.preprocessing import StandardScaler\n",
    "from sklearn.model_selection import train_test_split\n",
    "from sklearn.metrics import mean_squared_error, mean_absolute_error,\n",
    "import numpy as np\n",
    "\n",
    "pd.set_option('display.max_columns', None)\n",
    "pd.set_option('display.max_rows', None)\n",
    "\n",
    "import warnings\n",
    "warnings.filterwarnings('ignore')\n",
    "\n",
    "from sklearn.experimental import enable_iterative_imputer\n",
    "from sklearn.impute import IterativeImputer\n",
    "\n",
    "from sklearn.preprocessing import LabelEncoder\n",
    "from sklearn.model_selection import train_test_split\n",
    "\n",
    "from sklearn.ensemble import RandomForestClassifier\n",
    "from xgboost import XGBClassifier\n",
    "from sklearn.metrics import accuracy_score, r2_score, make_scorer, f1_score, recall_score, precision_score\n",
    "from sklearn.model_selection import GridSearchCV\n",
    "\n",
    "import seaborn as sns\n",
    "import matplotlib.pyplot as plt\n",
    "\n",
    "import pickle"
   ]
  },
  {
   "cell_type": "markdown",
   "id": "63f0dacb",
   "metadata": {},
   "source": [
    "## 读取数据并检查数据"
   ]
  },
  {
   "cell_type": "code",
   "execution_count": 2,
   "id": "bfe78aba",
   "metadata": {},
   "outputs": [
    {
     "data": {
      "text/html": [
       "<div>\n",
       "<style scoped>\n",
       "    .dataframe tbody tr th:only-of-type {\n",
       "        vertical-align: middle;\n",
       "    }\n",
       "\n",
       "    .dataframe tbody tr th {\n",
       "        vertical-align: top;\n",
       "    }\n",
       "\n",
       "    .dataframe thead th {\n",
       "        text-align: right;\n",
       "    }\n",
       "</style>\n",
       "<table border=\"1\" class=\"dataframe\">\n",
       "  <thead>\n",
       "    <tr style=\"text-align: right;\">\n",
       "      <th></th>\n",
       "      <th>CITATIONS</th>\n",
       "      <th>LATITUDE</th>\n",
       "      <th>LONGITUDE</th>\n",
       "      <th>SAMPLE NAME</th>\n",
       "      <th>Label</th>\n",
       "      <th>crust_thickness</th>\n",
       "      <th>SIO2(WT%)</th>\n",
       "      <th>TIO2(WT%)</th>\n",
       "      <th>AL2O3(WT%)</th>\n",
       "      <th>FEOT(WT%)</th>\n",
       "      <th>CAO(WT%)</th>\n",
       "      <th>MGO(WT%)</th>\n",
       "      <th>MNO(WT%)</th>\n",
       "      <th>K2O(WT%)</th>\n",
       "      <th>NA2O(WT%)</th>\n",
       "      <th>P2O5(WT%)</th>\n",
       "      <th>CR(PPM)</th>\n",
       "      <th>NI(PPM)</th>\n",
       "      <th>RB(PPM)</th>\n",
       "      <th>SR(PPM)</th>\n",
       "      <th>Y(PPM)</th>\n",
       "      <th>ZR(PPM)</th>\n",
       "      <th>NB(PPM)</th>\n",
       "      <th>BA(PPM)</th>\n",
       "      <th>LA(PPM)</th>\n",
       "      <th>CE(PPM)</th>\n",
       "      <th>PR(PPM)</th>\n",
       "      <th>ND(PPM)</th>\n",
       "      <th>SM(PPM)</th>\n",
       "      <th>EU(PPM)</th>\n",
       "      <th>GD(PPM)</th>\n",
       "      <th>TB(PPM)</th>\n",
       "      <th>DY(PPM)</th>\n",
       "      <th>ER(PPM)</th>\n",
       "      <th>YB(PPM)</th>\n",
       "      <th>LU(PPM)</th>\n",
       "      <th>HF(PPM)</th>\n",
       "      <th>TH(PPM)</th>\n",
       "      <th>(La/Yb)n</th>\n",
       "      <th>Ln((La/Yb)n)</th>\n",
       "      <th>Sr/Y</th>\n",
       "      <th>Rb/Sr</th>\n",
       "    </tr>\n",
       "  </thead>\n",
       "  <tbody>\n",
       "    <tr>\n",
       "      <th>0</th>\n",
       "      <td>[24367][23830]</td>\n",
       "      <td>-63.00</td>\n",
       "      <td>-61.00</td>\n",
       "      <td>s_DI-55 [24367]</td>\n",
       "      <td>3</td>\n",
       "      <td>25.570</td>\n",
       "      <td>59.702065</td>\n",
       "      <td>1.458461</td>\n",
       "      <td>15.862021</td>\n",
       "      <td>7.031831</td>\n",
       "      <td>4.653029</td>\n",
       "      <td>2.020201</td>\n",
       "      <td>0.170487</td>\n",
       "      <td>1.122293</td>\n",
       "      <td>6.015838</td>\n",
       "      <td>0.456267</td>\n",
       "      <td>1.1964</td>\n",
       "      <td>1.3958</td>\n",
       "      <td>16.0</td>\n",
       "      <td>310.0</td>\n",
       "      <td>50.5479</td>\n",
       "      <td>335.989</td>\n",
       "      <td>11.1664</td>\n",
       "      <td>178.83454</td>\n",
       "      <td>20.482725</td>\n",
       "      <td>49.901815</td>\n",
       "      <td>6.997974</td>\n",
       "      <td>30.9</td>\n",
       "      <td>8.239798</td>\n",
       "      <td>2.461873</td>\n",
       "      <td>8.830307</td>\n",
       "      <td>1.507821</td>\n",
       "      <td>9.519362</td>\n",
       "      <td>5.387897</td>\n",
       "      <td>4.998533</td>\n",
       "      <td>0.783026</td>\n",
       "      <td>7.709839</td>\n",
       "      <td>2.73459</td>\n",
       "      <td>2.783702</td>\n",
       "      <td>1.023782</td>\n",
       "      <td>6.132797</td>\n",
       "      <td>0.051613</td>\n",
       "    </tr>\n",
       "    <tr>\n",
       "      <th>1</th>\n",
       "      <td>[2594]</td>\n",
       "      <td>-62.95</td>\n",
       "      <td>-60.63</td>\n",
       "      <td>s_B.107.8 [2594]</td>\n",
       "      <td>3</td>\n",
       "      <td>27.210</td>\n",
       "      <td>62.570000</td>\n",
       "      <td>1.210000</td>\n",
       "      <td>15.260000</td>\n",
       "      <td>6.450000</td>\n",
       "      <td>3.630000</td>\n",
       "      <td>1.240000</td>\n",
       "      <td>0.220000</td>\n",
       "      <td>1.210000</td>\n",
       "      <td>6.440000</td>\n",
       "      <td>0.300000</td>\n",
       "      <td>9.0000</td>\n",
       "      <td>4.0000</td>\n",
       "      <td>21.0</td>\n",
       "      <td>260.0</td>\n",
       "      <td>66.0000</td>\n",
       "      <td>496.000</td>\n",
       "      <td>14.0000</td>\n",
       "      <td>200.00000</td>\n",
       "      <td>28.000000</td>\n",
       "      <td>61.500000</td>\n",
       "      <td>NaN</td>\n",
       "      <td>34.7</td>\n",
       "      <td>8.640000</td>\n",
       "      <td>2.360000</td>\n",
       "      <td>9.160000</td>\n",
       "      <td>NaN</td>\n",
       "      <td>9.740000</td>\n",
       "      <td>6.430000</td>\n",
       "      <td>6.120000</td>\n",
       "      <td>NaN</td>\n",
       "      <td>NaN</td>\n",
       "      <td>4.00000</td>\n",
       "      <td>3.108022</td>\n",
       "      <td>1.133987</td>\n",
       "      <td>3.939394</td>\n",
       "      <td>0.080769</td>\n",
       "    </tr>\n",
       "    <tr>\n",
       "      <th>2</th>\n",
       "      <td>[5372]</td>\n",
       "      <td>-50.00</td>\n",
       "      <td>-70.00</td>\n",
       "      <td>s_AG-2 [5372]</td>\n",
       "      <td>4</td>\n",
       "      <td>32.375</td>\n",
       "      <td>64.360000</td>\n",
       "      <td>0.600000</td>\n",
       "      <td>16.540000</td>\n",
       "      <td>4.010000</td>\n",
       "      <td>4.930000</td>\n",
       "      <td>2.090000</td>\n",
       "      <td>0.090000</td>\n",
       "      <td>2.040000</td>\n",
       "      <td>4.200000</td>\n",
       "      <td>0.240000</td>\n",
       "      <td>38.0000</td>\n",
       "      <td>NaN</td>\n",
       "      <td>57.0</td>\n",
       "      <td>470.0</td>\n",
       "      <td>8.0000</td>\n",
       "      <td>141.000</td>\n",
       "      <td>5.0000</td>\n",
       "      <td>449.00000</td>\n",
       "      <td>28.500000</td>\n",
       "      <td>58.800000</td>\n",
       "      <td>NaN</td>\n",
       "      <td>19.5</td>\n",
       "      <td>3.400000</td>\n",
       "      <td>1.400000</td>\n",
       "      <td>NaN</td>\n",
       "      <td>0.770000</td>\n",
       "      <td>NaN</td>\n",
       "      <td>NaN</td>\n",
       "      <td>1.200000</td>\n",
       "      <td>0.250000</td>\n",
       "      <td>4.100000</td>\n",
       "      <td>11.60000</td>\n",
       "      <td>16.133966</td>\n",
       "      <td>2.780927</td>\n",
       "      <td>58.750000</td>\n",
       "      <td>0.121277</td>\n",
       "    </tr>\n",
       "    <tr>\n",
       "      <th>3</th>\n",
       "      <td>[5372]</td>\n",
       "      <td>-50.00</td>\n",
       "      <td>-70.00</td>\n",
       "      <td>s_AG-5 [5372]</td>\n",
       "      <td>4</td>\n",
       "      <td>32.375</td>\n",
       "      <td>62.350000</td>\n",
       "      <td>0.790000</td>\n",
       "      <td>16.610000</td>\n",
       "      <td>5.430000</td>\n",
       "      <td>5.710000</td>\n",
       "      <td>2.870000</td>\n",
       "      <td>0.090000</td>\n",
       "      <td>2.090000</td>\n",
       "      <td>4.170000</td>\n",
       "      <td>0.230000</td>\n",
       "      <td>28.0000</td>\n",
       "      <td>19.0000</td>\n",
       "      <td>57.0</td>\n",
       "      <td>511.0</td>\n",
       "      <td>15.0000</td>\n",
       "      <td>149.000</td>\n",
       "      <td>10.0000</td>\n",
       "      <td>447.00000</td>\n",
       "      <td>29.600000</td>\n",
       "      <td>59.700000</td>\n",
       "      <td>NaN</td>\n",
       "      <td>20.0</td>\n",
       "      <td>4.000000</td>\n",
       "      <td>1.100000</td>\n",
       "      <td>NaN</td>\n",
       "      <td>0.660000</td>\n",
       "      <td>NaN</td>\n",
       "      <td>NaN</td>\n",
       "      <td>1.320000</td>\n",
       "      <td>0.220000</td>\n",
       "      <td>4.100000</td>\n",
       "      <td>10.40000</td>\n",
       "      <td>15.233346</td>\n",
       "      <td>2.723487</td>\n",
       "      <td>34.066667</td>\n",
       "      <td>0.111546</td>\n",
       "    </tr>\n",
       "    <tr>\n",
       "      <th>4</th>\n",
       "      <td>[5372]</td>\n",
       "      <td>-50.00</td>\n",
       "      <td>-70.00</td>\n",
       "      <td>s_AG-7 [5372]</td>\n",
       "      <td>4</td>\n",
       "      <td>32.375</td>\n",
       "      <td>62.040000</td>\n",
       "      <td>0.790000</td>\n",
       "      <td>16.590000</td>\n",
       "      <td>5.460000</td>\n",
       "      <td>5.720000</td>\n",
       "      <td>2.910000</td>\n",
       "      <td>0.090000</td>\n",
       "      <td>2.160000</td>\n",
       "      <td>4.110000</td>\n",
       "      <td>0.250000</td>\n",
       "      <td>26.0000</td>\n",
       "      <td>18.0000</td>\n",
       "      <td>63.0</td>\n",
       "      <td>463.0</td>\n",
       "      <td>16.0000</td>\n",
       "      <td>150.000</td>\n",
       "      <td>11.0000</td>\n",
       "      <td>444.00000</td>\n",
       "      <td>29.300000</td>\n",
       "      <td>60.100000</td>\n",
       "      <td>NaN</td>\n",
       "      <td>21.1</td>\n",
       "      <td>4.000000</td>\n",
       "      <td>1.100000</td>\n",
       "      <td>NaN</td>\n",
       "      <td>0.470000</td>\n",
       "      <td>NaN</td>\n",
       "      <td>NaN</td>\n",
       "      <td>1.540000</td>\n",
       "      <td>0.190000</td>\n",
       "      <td>4.600000</td>\n",
       "      <td>10.70000</td>\n",
       "      <td>12.924818</td>\n",
       "      <td>2.559149</td>\n",
       "      <td>28.937500</td>\n",
       "      <td>0.136069</td>\n",
       "    </tr>\n",
       "  </tbody>\n",
       "</table>\n",
       "</div>"
      ],
      "text/plain": [
       "        CITATIONS  LATITUDE  LONGITUDE       SAMPLE NAME  Label  \\\n",
       "0  [24367][23830]    -63.00     -61.00   s_DI-55 [24367]      3   \n",
       "1          [2594]    -62.95     -60.63  s_B.107.8 [2594]      3   \n",
       "2          [5372]    -50.00     -70.00     s_AG-2 [5372]      4   \n",
       "3          [5372]    -50.00     -70.00     s_AG-5 [5372]      4   \n",
       "4          [5372]    -50.00     -70.00     s_AG-7 [5372]      4   \n",
       "\n",
       "   crust_thickness  SIO2(WT%)  TIO2(WT%)  AL2O3(WT%)  FEOT(WT%)  CAO(WT%)  \\\n",
       "0           25.570  59.702065   1.458461   15.862021   7.031831  4.653029   \n",
       "1           27.210  62.570000   1.210000   15.260000   6.450000  3.630000   \n",
       "2           32.375  64.360000   0.600000   16.540000   4.010000  4.930000   \n",
       "3           32.375  62.350000   0.790000   16.610000   5.430000  5.710000   \n",
       "4           32.375  62.040000   0.790000   16.590000   5.460000  5.720000   \n",
       "\n",
       "   MGO(WT%)  MNO(WT%)  K2O(WT%)  NA2O(WT%)  P2O5(WT%)  CR(PPM)  NI(PPM)  \\\n",
       "0  2.020201  0.170487  1.122293   6.015838   0.456267   1.1964   1.3958   \n",
       "1  1.240000  0.220000  1.210000   6.440000   0.300000   9.0000   4.0000   \n",
       "2  2.090000  0.090000  2.040000   4.200000   0.240000  38.0000      NaN   \n",
       "3  2.870000  0.090000  2.090000   4.170000   0.230000  28.0000  19.0000   \n",
       "4  2.910000  0.090000  2.160000   4.110000   0.250000  26.0000  18.0000   \n",
       "\n",
       "   RB(PPM)  SR(PPM)   Y(PPM)  ZR(PPM)  NB(PPM)    BA(PPM)    LA(PPM)  \\\n",
       "0     16.0    310.0  50.5479  335.989  11.1664  178.83454  20.482725   \n",
       "1     21.0    260.0  66.0000  496.000  14.0000  200.00000  28.000000   \n",
       "2     57.0    470.0   8.0000  141.000   5.0000  449.00000  28.500000   \n",
       "3     57.0    511.0  15.0000  149.000  10.0000  447.00000  29.600000   \n",
       "4     63.0    463.0  16.0000  150.000  11.0000  444.00000  29.300000   \n",
       "\n",
       "     CE(PPM)   PR(PPM)  ND(PPM)   SM(PPM)   EU(PPM)   GD(PPM)   TB(PPM)  \\\n",
       "0  49.901815  6.997974     30.9  8.239798  2.461873  8.830307  1.507821   \n",
       "1  61.500000       NaN     34.7  8.640000  2.360000  9.160000       NaN   \n",
       "2  58.800000       NaN     19.5  3.400000  1.400000       NaN  0.770000   \n",
       "3  59.700000       NaN     20.0  4.000000  1.100000       NaN  0.660000   \n",
       "4  60.100000       NaN     21.1  4.000000  1.100000       NaN  0.470000   \n",
       "\n",
       "    DY(PPM)   ER(PPM)   YB(PPM)   LU(PPM)   HF(PPM)   TH(PPM)   (La/Yb)n  \\\n",
       "0  9.519362  5.387897  4.998533  0.783026  7.709839   2.73459   2.783702   \n",
       "1  9.740000  6.430000  6.120000       NaN       NaN   4.00000   3.108022   \n",
       "2       NaN       NaN  1.200000  0.250000  4.100000  11.60000  16.133966   \n",
       "3       NaN       NaN  1.320000  0.220000  4.100000  10.40000  15.233346   \n",
       "4       NaN       NaN  1.540000  0.190000  4.600000  10.70000  12.924818   \n",
       "\n",
       "   Ln((La/Yb)n)       Sr/Y     Rb/Sr  \n",
       "0      1.023782   6.132797  0.051613  \n",
       "1      1.133987   3.939394  0.080769  \n",
       "2      2.780927  58.750000  0.121277  \n",
       "3      2.723487  34.066667  0.111546  \n",
       "4      2.559149  28.937500  0.136069  "
      ]
     },
     "execution_count": 2,
     "metadata": {},
     "output_type": "execute_result"
    }
   ],
   "source": [
    "df_raw = pd.read_excel(\"Arc_Orogenic_with_Gangdese55-68.xlsx\",'Data For Training (3)')\n",
    "df_raw.head()"
   ]
  },
  {
   "cell_type": "code",
   "execution_count": 3,
   "id": "f807c487",
   "metadata": {},
   "outputs": [
    {
     "data": {
      "text/plain": [
       "(2744, 42)"
      ]
     },
     "execution_count": 3,
     "metadata": {},
     "output_type": "execute_result"
    }
   ],
   "source": [
    "df = df_raw.copy()\n",
    "df.shape"
   ]
  },
  {
   "cell_type": "code",
   "execution_count": 4,
   "id": "37fef304",
   "metadata": {},
   "outputs": [
    {
     "data": {
      "text/plain": [
       "Index(['CITATIONS', 'LATITUDE', 'LONGITUDE', 'SAMPLE NAME', 'Label',\n",
       "       'crust_thickness', 'SIO2(WT%)', 'TIO2(WT%)', 'AL2O3(WT%)', 'FEOT(WT%)',\n",
       "       'CAO(WT%)', 'MGO(WT%)', 'MNO(WT%)', 'K2O(WT%)', 'NA2O(WT%)',\n",
       "       'P2O5(WT%)', 'CR(PPM)', 'NI(PPM)', 'RB(PPM)', 'SR(PPM)', 'Y(PPM)',\n",
       "       'ZR(PPM)', 'NB(PPM)', 'BA(PPM)', 'LA(PPM)', 'CE(PPM)', 'PR(PPM)',\n",
       "       'ND(PPM)', 'SM(PPM)', 'EU(PPM)', 'GD(PPM)', 'TB(PPM)', 'DY(PPM)',\n",
       "       'ER(PPM)', 'YB(PPM)', 'LU(PPM)', 'HF(PPM)', 'TH(PPM)', '(La/Yb)n',\n",
       "       'Ln((La/Yb)n)', 'Sr/Y', 'Rb/Sr'],\n",
       "      dtype='object')"
      ]
     },
     "execution_count": 4,
     "metadata": {},
     "output_type": "execute_result"
    }
   ],
   "source": [
    "df.columns #Keep NA to see NA's impact"
   ]
  },
  {
   "cell_type": "code",
   "execution_count": 5,
   "id": "aa6bddbf",
   "metadata": {},
   "outputs": [
    {
     "data": {
      "text/plain": [
       "(2744, 42)"
      ]
     },
     "execution_count": 5,
     "metadata": {},
     "output_type": "execute_result"
    }
   ],
   "source": [
    "df.drop(df.columns[df.isna().mean() == 1], axis=1, inplace=True)  # Remove columns that 100% missing \n",
    "df.shape"
   ]
  },
  {
   "cell_type": "code",
   "execution_count": 7,
   "id": "b35f85f4",
   "metadata": {},
   "outputs": [
    {
     "data": {
      "text/html": [
       "<div>\n",
       "<style scoped>\n",
       "    .dataframe tbody tr th:only-of-type {\n",
       "        vertical-align: middle;\n",
       "    }\n",
       "\n",
       "    .dataframe tbody tr th {\n",
       "        vertical-align: top;\n",
       "    }\n",
       "\n",
       "    .dataframe thead th {\n",
       "        text-align: right;\n",
       "    }\n",
       "</style>\n",
       "<table border=\"1\" class=\"dataframe\">\n",
       "  <thead>\n",
       "    <tr style=\"text-align: right;\">\n",
       "      <th></th>\n",
       "      <th>Label</th>\n",
       "      <th>crust_thickness</th>\n",
       "      <th>SIO2(WT%)</th>\n",
       "      <th>TIO2(WT%)</th>\n",
       "      <th>AL2O3(WT%)</th>\n",
       "      <th>FEOT(WT%)</th>\n",
       "      <th>CAO(WT%)</th>\n",
       "      <th>MGO(WT%)</th>\n",
       "      <th>K2O(WT%)</th>\n",
       "      <th>NA2O(WT%)</th>\n",
       "      <th>P2O5(WT%)</th>\n",
       "      <th>CR(PPM)</th>\n",
       "      <th>NI(PPM)</th>\n",
       "      <th>RB(PPM)</th>\n",
       "      <th>SR(PPM)</th>\n",
       "      <th>Y(PPM)</th>\n",
       "      <th>ZR(PPM)</th>\n",
       "      <th>NB(PPM)</th>\n",
       "      <th>BA(PPM)</th>\n",
       "      <th>LA(PPM)</th>\n",
       "      <th>CE(PPM)</th>\n",
       "      <th>PR(PPM)</th>\n",
       "      <th>ND(PPM)</th>\n",
       "      <th>SM(PPM)</th>\n",
       "      <th>EU(PPM)</th>\n",
       "      <th>GD(PPM)</th>\n",
       "      <th>TB(PPM)</th>\n",
       "      <th>DY(PPM)</th>\n",
       "      <th>ER(PPM)</th>\n",
       "      <th>YB(PPM)</th>\n",
       "      <th>LU(PPM)</th>\n",
       "      <th>HF(PPM)</th>\n",
       "      <th>TH(PPM)</th>\n",
       "      <th>Ln((La/Yb)n)</th>\n",
       "      <th>Sr/Y</th>\n",
       "    </tr>\n",
       "  </thead>\n",
       "  <tbody>\n",
       "    <tr>\n",
       "      <th>0</th>\n",
       "      <td>3</td>\n",
       "      <td>25.570</td>\n",
       "      <td>59.702065</td>\n",
       "      <td>1.458461</td>\n",
       "      <td>15.862021</td>\n",
       "      <td>7.031831</td>\n",
       "      <td>4.653029</td>\n",
       "      <td>2.020201</td>\n",
       "      <td>1.122293</td>\n",
       "      <td>6.015838</td>\n",
       "      <td>0.456267</td>\n",
       "      <td>1.1964</td>\n",
       "      <td>1.3958</td>\n",
       "      <td>16.0</td>\n",
       "      <td>310.0</td>\n",
       "      <td>50.5479</td>\n",
       "      <td>335.989</td>\n",
       "      <td>11.1664</td>\n",
       "      <td>178.83454</td>\n",
       "      <td>20.482725</td>\n",
       "      <td>49.901815</td>\n",
       "      <td>6.997974</td>\n",
       "      <td>30.9</td>\n",
       "      <td>8.239798</td>\n",
       "      <td>2.461873</td>\n",
       "      <td>8.830307</td>\n",
       "      <td>1.507821</td>\n",
       "      <td>9.519362</td>\n",
       "      <td>5.387897</td>\n",
       "      <td>4.998533</td>\n",
       "      <td>0.783026</td>\n",
       "      <td>7.709839</td>\n",
       "      <td>2.73459</td>\n",
       "      <td>1.023782</td>\n",
       "      <td>6.132797</td>\n",
       "    </tr>\n",
       "    <tr>\n",
       "      <th>1</th>\n",
       "      <td>3</td>\n",
       "      <td>27.210</td>\n",
       "      <td>62.570000</td>\n",
       "      <td>1.210000</td>\n",
       "      <td>15.260000</td>\n",
       "      <td>6.450000</td>\n",
       "      <td>3.630000</td>\n",
       "      <td>1.240000</td>\n",
       "      <td>1.210000</td>\n",
       "      <td>6.440000</td>\n",
       "      <td>0.300000</td>\n",
       "      <td>9.0000</td>\n",
       "      <td>4.0000</td>\n",
       "      <td>21.0</td>\n",
       "      <td>260.0</td>\n",
       "      <td>66.0000</td>\n",
       "      <td>496.000</td>\n",
       "      <td>14.0000</td>\n",
       "      <td>200.00000</td>\n",
       "      <td>28.000000</td>\n",
       "      <td>61.500000</td>\n",
       "      <td>NaN</td>\n",
       "      <td>34.7</td>\n",
       "      <td>8.640000</td>\n",
       "      <td>2.360000</td>\n",
       "      <td>9.160000</td>\n",
       "      <td>NaN</td>\n",
       "      <td>9.740000</td>\n",
       "      <td>6.430000</td>\n",
       "      <td>6.120000</td>\n",
       "      <td>NaN</td>\n",
       "      <td>NaN</td>\n",
       "      <td>4.00000</td>\n",
       "      <td>1.133987</td>\n",
       "      <td>3.939394</td>\n",
       "    </tr>\n",
       "    <tr>\n",
       "      <th>2</th>\n",
       "      <td>4</td>\n",
       "      <td>32.375</td>\n",
       "      <td>64.360000</td>\n",
       "      <td>0.600000</td>\n",
       "      <td>16.540000</td>\n",
       "      <td>4.010000</td>\n",
       "      <td>4.930000</td>\n",
       "      <td>2.090000</td>\n",
       "      <td>2.040000</td>\n",
       "      <td>4.200000</td>\n",
       "      <td>0.240000</td>\n",
       "      <td>38.0000</td>\n",
       "      <td>NaN</td>\n",
       "      <td>57.0</td>\n",
       "      <td>470.0</td>\n",
       "      <td>8.0000</td>\n",
       "      <td>141.000</td>\n",
       "      <td>5.0000</td>\n",
       "      <td>449.00000</td>\n",
       "      <td>28.500000</td>\n",
       "      <td>58.800000</td>\n",
       "      <td>NaN</td>\n",
       "      <td>19.5</td>\n",
       "      <td>3.400000</td>\n",
       "      <td>1.400000</td>\n",
       "      <td>NaN</td>\n",
       "      <td>0.770000</td>\n",
       "      <td>NaN</td>\n",
       "      <td>NaN</td>\n",
       "      <td>1.200000</td>\n",
       "      <td>0.250000</td>\n",
       "      <td>4.100000</td>\n",
       "      <td>11.60000</td>\n",
       "      <td>2.780927</td>\n",
       "      <td>58.750000</td>\n",
       "    </tr>\n",
       "    <tr>\n",
       "      <th>3</th>\n",
       "      <td>4</td>\n",
       "      <td>32.375</td>\n",
       "      <td>62.350000</td>\n",
       "      <td>0.790000</td>\n",
       "      <td>16.610000</td>\n",
       "      <td>5.430000</td>\n",
       "      <td>5.710000</td>\n",
       "      <td>2.870000</td>\n",
       "      <td>2.090000</td>\n",
       "      <td>4.170000</td>\n",
       "      <td>0.230000</td>\n",
       "      <td>28.0000</td>\n",
       "      <td>19.0000</td>\n",
       "      <td>57.0</td>\n",
       "      <td>511.0</td>\n",
       "      <td>15.0000</td>\n",
       "      <td>149.000</td>\n",
       "      <td>10.0000</td>\n",
       "      <td>447.00000</td>\n",
       "      <td>29.600000</td>\n",
       "      <td>59.700000</td>\n",
       "      <td>NaN</td>\n",
       "      <td>20.0</td>\n",
       "      <td>4.000000</td>\n",
       "      <td>1.100000</td>\n",
       "      <td>NaN</td>\n",
       "      <td>0.660000</td>\n",
       "      <td>NaN</td>\n",
       "      <td>NaN</td>\n",
       "      <td>1.320000</td>\n",
       "      <td>0.220000</td>\n",
       "      <td>4.100000</td>\n",
       "      <td>10.40000</td>\n",
       "      <td>2.723487</td>\n",
       "      <td>34.066667</td>\n",
       "    </tr>\n",
       "    <tr>\n",
       "      <th>4</th>\n",
       "      <td>4</td>\n",
       "      <td>32.375</td>\n",
       "      <td>62.040000</td>\n",
       "      <td>0.790000</td>\n",
       "      <td>16.590000</td>\n",
       "      <td>5.460000</td>\n",
       "      <td>5.720000</td>\n",
       "      <td>2.910000</td>\n",
       "      <td>2.160000</td>\n",
       "      <td>4.110000</td>\n",
       "      <td>0.250000</td>\n",
       "      <td>26.0000</td>\n",
       "      <td>18.0000</td>\n",
       "      <td>63.0</td>\n",
       "      <td>463.0</td>\n",
       "      <td>16.0000</td>\n",
       "      <td>150.000</td>\n",
       "      <td>11.0000</td>\n",
       "      <td>444.00000</td>\n",
       "      <td>29.300000</td>\n",
       "      <td>60.100000</td>\n",
       "      <td>NaN</td>\n",
       "      <td>21.1</td>\n",
       "      <td>4.000000</td>\n",
       "      <td>1.100000</td>\n",
       "      <td>NaN</td>\n",
       "      <td>0.470000</td>\n",
       "      <td>NaN</td>\n",
       "      <td>NaN</td>\n",
       "      <td>1.540000</td>\n",
       "      <td>0.190000</td>\n",
       "      <td>4.600000</td>\n",
       "      <td>10.70000</td>\n",
       "      <td>2.559149</td>\n",
       "      <td>28.937500</td>\n",
       "    </tr>\n",
       "  </tbody>\n",
       "</table>\n",
       "</div>"
      ],
      "text/plain": [
       "   Label  crust_thickness  SIO2(WT%)  TIO2(WT%)  AL2O3(WT%)  FEOT(WT%)  \\\n",
       "0      3           25.570  59.702065   1.458461   15.862021   7.031831   \n",
       "1      3           27.210  62.570000   1.210000   15.260000   6.450000   \n",
       "2      4           32.375  64.360000   0.600000   16.540000   4.010000   \n",
       "3      4           32.375  62.350000   0.790000   16.610000   5.430000   \n",
       "4      4           32.375  62.040000   0.790000   16.590000   5.460000   \n",
       "\n",
       "   CAO(WT%)  MGO(WT%)  K2O(WT%)  NA2O(WT%)  P2O5(WT%)  CR(PPM)  NI(PPM)  \\\n",
       "0  4.653029  2.020201  1.122293   6.015838   0.456267   1.1964   1.3958   \n",
       "1  3.630000  1.240000  1.210000   6.440000   0.300000   9.0000   4.0000   \n",
       "2  4.930000  2.090000  2.040000   4.200000   0.240000  38.0000      NaN   \n",
       "3  5.710000  2.870000  2.090000   4.170000   0.230000  28.0000  19.0000   \n",
       "4  5.720000  2.910000  2.160000   4.110000   0.250000  26.0000  18.0000   \n",
       "\n",
       "   RB(PPM)  SR(PPM)   Y(PPM)  ZR(PPM)  NB(PPM)    BA(PPM)    LA(PPM)  \\\n",
       "0     16.0    310.0  50.5479  335.989  11.1664  178.83454  20.482725   \n",
       "1     21.0    260.0  66.0000  496.000  14.0000  200.00000  28.000000   \n",
       "2     57.0    470.0   8.0000  141.000   5.0000  449.00000  28.500000   \n",
       "3     57.0    511.0  15.0000  149.000  10.0000  447.00000  29.600000   \n",
       "4     63.0    463.0  16.0000  150.000  11.0000  444.00000  29.300000   \n",
       "\n",
       "     CE(PPM)   PR(PPM)  ND(PPM)   SM(PPM)   EU(PPM)   GD(PPM)   TB(PPM)  \\\n",
       "0  49.901815  6.997974     30.9  8.239798  2.461873  8.830307  1.507821   \n",
       "1  61.500000       NaN     34.7  8.640000  2.360000  9.160000       NaN   \n",
       "2  58.800000       NaN     19.5  3.400000  1.400000       NaN  0.770000   \n",
       "3  59.700000       NaN     20.0  4.000000  1.100000       NaN  0.660000   \n",
       "4  60.100000       NaN     21.1  4.000000  1.100000       NaN  0.470000   \n",
       "\n",
       "    DY(PPM)   ER(PPM)   YB(PPM)   LU(PPM)   HF(PPM)   TH(PPM)  Ln((La/Yb)n)  \\\n",
       "0  9.519362  5.387897  4.998533  0.783026  7.709839   2.73459      1.023782   \n",
       "1  9.740000  6.430000  6.120000       NaN       NaN   4.00000      1.133987   \n",
       "2       NaN       NaN  1.200000  0.250000  4.100000  11.60000      2.780927   \n",
       "3       NaN       NaN  1.320000  0.220000  4.100000  10.40000      2.723487   \n",
       "4       NaN       NaN  1.540000  0.190000  4.600000  10.70000      2.559149   \n",
       "\n",
       "        Sr/Y  \n",
       "0   6.132797  \n",
       "1   3.939394  \n",
       "2  58.750000  \n",
       "3  34.066667  \n",
       "4  28.937500  "
      ]
     },
     "execution_count": 7,
     "metadata": {},
     "output_type": "execute_result"
    }
   ],
   "source": [
    "df  = df.drop(['CITATIONS',\t'LATITUDE',\t'LONGITUDE','MNO(WT%)',\t'SAMPLE NAME','(La/Yb)n','Rb/Sr'], axis = 1)\n",
    "# df.shape\n",
    "df.head()"
   ]
  },
  {
   "cell_type": "code",
   "execution_count": 8,
   "id": "842152aa",
   "metadata": {},
   "outputs": [
    {
     "data": {
      "text/plain": [
       "5    927\n",
       "4    688\n",
       "6    497\n",
       "3    360\n",
       "2    108\n",
       "7     92\n",
       "8     72\n",
       "Name: Label, dtype: int64"
      ]
     },
     "execution_count": 8,
     "metadata": {},
     "output_type": "execute_result"
    }
   ],
   "source": [
    "df.Label.value_counts()"
   ]
  },
  {
   "cell_type": "code",
   "execution_count": 9,
   "id": "cbce6761",
   "metadata": {},
   "outputs": [
    {
     "data": {
      "text/plain": [
       "7"
      ]
     },
     "execution_count": 9,
     "metadata": {},
     "output_type": "execute_result"
    }
   ],
   "source": [
    "df.Label.nunique()"
   ]
  },
  {
   "cell_type": "code",
   "execution_count": 10,
   "id": "ce47091e",
   "metadata": {},
   "outputs": [],
   "source": [
    "# def feature_ratios(df.feature):\n",
    "#     plt.figure(figsize=(20, 16))\n",
    "#     sns.countplot(df.feature, palette=\"Set3\")\n",
    "#     plt.xticks(rotation=45)"
   ]
  },
  {
   "cell_type": "code",
   "execution_count": 11,
   "id": "d6383c56",
   "metadata": {},
   "outputs": [
    {
     "data": {
      "text/plain": [
       "(array([0, 1, 2, 3, 4, 5, 6]),\n",
       " [Text(0, 0, '2'),\n",
       "  Text(1, 0, '3'),\n",
       "  Text(2, 0, '4'),\n",
       "  Text(3, 0, '5'),\n",
       "  Text(4, 0, '6'),\n",
       "  Text(5, 0, '7'),\n",
       "  Text(6, 0, '8')])"
      ]
     },
     "execution_count": 11,
     "metadata": {},
     "output_type": "execute_result"
    },
    {
     "data": {
      "image/png": "[encoded data removed]",
      "text/plain": [
       "<Figure size 1152x432 with 1 Axes>"
      ]
     },
     "metadata": {
      "needs_background": "light"
     },
     "output_type": "display_data"
    }
   ],
   "source": [
    "plt.figure(figsize=(16, 6))\n",
    "sns.countplot(df.Label, palette=\"Set2\")\n",
    "plt.xticks(rotation=45)\n",
    "plt.savefig"
   ]
  },
  {
   "cell_type": "code",
   "execution_count": 12,
   "id": "2b95f870",
   "metadata": {},
   "outputs": [
    {
     "name": "stdout",
     "output_type": "stream",
     "text": [
      "<class 'pandas.core.frame.DataFrame'>\n",
      "RangeIndex: 2744 entries, 0 to 2743\n",
      "Data columns (total 35 columns):\n",
      " #   Column           Non-Null Count  Dtype  \n",
      "---  ------           --------------  -----  \n",
      " 0   Label            2744 non-null   int64  \n",
      " 1   crust_thickness  2744 non-null   float64\n",
      " 2   SIO2(WT%)        2744 non-null   float64\n",
      " 3   TIO2(WT%)        2744 non-null   float64\n",
      " 4   AL2O3(WT%)       2744 non-null   float64\n",
      " 5   FEOT(WT%)        2744 non-null   float64\n",
      " 6   CAO(WT%)         2744 non-null   float64\n",
      " 7   MGO(WT%)         2744 non-null   float64\n",
      " 8   K2O(WT%)         2744 non-null   float64\n",
      " 9   NA2O(WT%)        2744 non-null   float64\n",
      " 10  P2O5(WT%)        2744 non-null   float64\n",
      " 11  CR(PPM)          2388 non-null   float64\n",
      " 12  NI(PPM)          2411 non-null   float64\n",
      " 13  RB(PPM)          2744 non-null   float64\n",
      " 14  SR(PPM)          2744 non-null   float64\n",
      " 15  Y(PPM)           2744 non-null   float64\n",
      " 16  ZR(PPM)          2737 non-null   float64\n",
      " 17  NB(PPM)          2731 non-null   float64\n",
      " 18  BA(PPM)          2742 non-null   float64\n",
      " 19  LA(PPM)          2744 non-null   float64\n",
      " 20  CE(PPM)          2739 non-null   float64\n",
      " 21  PR(PPM)          1763 non-null   float64\n",
      " 22  ND(PPM)          2714 non-null   float64\n",
      " 23  SM(PPM)          2606 non-null   float64\n",
      " 24  EU(PPM)          2718 non-null   float64\n",
      " 25  GD(PPM)          2342 non-null   float64\n",
      " 26  TB(PPM)          1971 non-null   float64\n",
      " 27  DY(PPM)          2451 non-null   float64\n",
      " 28  ER(PPM)          2443 non-null   float64\n",
      " 29  YB(PPM)          2744 non-null   float64\n",
      " 30  LU(PPM)          2004 non-null   float64\n",
      " 31  HF(PPM)          1933 non-null   float64\n",
      " 32  TH(PPM)          2659 non-null   float64\n",
      " 33  Ln((La/Yb)n)     2744 non-null   float64\n",
      " 34  Sr/Y             2744 non-null   float64\n",
      "dtypes: float64(34), int64(1)\n",
      "memory usage: 750.4 KB\n"
     ]
    }
   ],
   "source": [
    "df.info()"
   ]
  },
  {
   "cell_type": "code",
   "execution_count": 13,
   "id": "5ec579ac",
   "metadata": {},
   "outputs": [
    {
     "data": {
      "text/plain": [
       "0.05514369012911287"
      ]
     },
     "execution_count": 13,
     "metadata": {},
     "output_type": "execute_result"
    }
   ],
   "source": [
    "#count the percentage of Nan\n",
    "df.isnull().sum().sum() /(df.shape[0]* df.shape[1])"
   ]
  },
  {
   "cell_type": "markdown",
   "id": "d42b37c4",
   "metadata": {},
   "source": [
    "## split data "
   ]
  },
  {
   "cell_type": "code",
   "execution_count": 14,
   "id": "7813f970",
   "metadata": {},
   "outputs": [],
   "source": [
    "df = df.drop('crust_thickness',axis = 1)\n",
    "Label= df['Label']\n",
    "y = df.drop('Label', axis = 1)"
   ]
  },
  {
   "cell_type": "code",
   "execution_count": 15,
   "id": "fc758dbe",
   "metadata": {},
   "outputs": [
    {
     "data": {
      "text/html": [
       "<div>\n",
       "<style scoped>\n",
       "    .dataframe tbody tr th:only-of-type {\n",
       "        vertical-align: middle;\n",
       "    }\n",
       "\n",
       "    .dataframe tbody tr th {\n",
       "        vertical-align: top;\n",
       "    }\n",
       "\n",
       "    .dataframe thead th {\n",
       "        text-align: right;\n",
       "    }\n",
       "</style>\n",
       "<table border=\"1\" class=\"dataframe\">\n",
       "  <thead>\n",
       "    <tr style=\"text-align: right;\">\n",
       "      <th></th>\n",
       "      <th>SIO2(WT%)</th>\n",
       "      <th>TIO2(WT%)</th>\n",
       "      <th>AL2O3(WT%)</th>\n",
       "      <th>FEOT(WT%)</th>\n",
       "      <th>CAO(WT%)</th>\n",
       "      <th>MGO(WT%)</th>\n",
       "      <th>K2O(WT%)</th>\n",
       "      <th>NA2O(WT%)</th>\n",
       "      <th>P2O5(WT%)</th>\n",
       "      <th>CR(PPM)</th>\n",
       "      <th>NI(PPM)</th>\n",
       "      <th>RB(PPM)</th>\n",
       "      <th>SR(PPM)</th>\n",
       "      <th>Y(PPM)</th>\n",
       "      <th>ZR(PPM)</th>\n",
       "      <th>NB(PPM)</th>\n",
       "      <th>BA(PPM)</th>\n",
       "      <th>LA(PPM)</th>\n",
       "      <th>CE(PPM)</th>\n",
       "      <th>PR(PPM)</th>\n",
       "      <th>ND(PPM)</th>\n",
       "      <th>SM(PPM)</th>\n",
       "      <th>EU(PPM)</th>\n",
       "      <th>GD(PPM)</th>\n",
       "      <th>TB(PPM)</th>\n",
       "      <th>DY(PPM)</th>\n",
       "      <th>ER(PPM)</th>\n",
       "      <th>YB(PPM)</th>\n",
       "      <th>LU(PPM)</th>\n",
       "      <th>HF(PPM)</th>\n",
       "      <th>TH(PPM)</th>\n",
       "      <th>Ln((La/Yb)n)</th>\n",
       "      <th>Sr/Y</th>\n",
       "    </tr>\n",
       "  </thead>\n",
       "  <tbody>\n",
       "    <tr>\n",
       "      <th>0</th>\n",
       "      <td>59.702065</td>\n",
       "      <td>1.458461</td>\n",
       "      <td>15.862021</td>\n",
       "      <td>7.031831</td>\n",
       "      <td>4.653029</td>\n",
       "      <td>2.020201</td>\n",
       "      <td>1.122293</td>\n",
       "      <td>6.015838</td>\n",
       "      <td>0.456267</td>\n",
       "      <td>1.1964</td>\n",
       "      <td>1.3958</td>\n",
       "      <td>16.0</td>\n",
       "      <td>310.0</td>\n",
       "      <td>50.5479</td>\n",
       "      <td>335.989</td>\n",
       "      <td>11.1664</td>\n",
       "      <td>178.83454</td>\n",
       "      <td>20.482725</td>\n",
       "      <td>49.901815</td>\n",
       "      <td>6.997974</td>\n",
       "      <td>30.9</td>\n",
       "      <td>8.239798</td>\n",
       "      <td>2.461873</td>\n",
       "      <td>8.830307</td>\n",
       "      <td>1.507821</td>\n",
       "      <td>9.519362</td>\n",
       "      <td>5.387897</td>\n",
       "      <td>4.998533</td>\n",
       "      <td>0.783026</td>\n",
       "      <td>7.709839</td>\n",
       "      <td>2.73459</td>\n",
       "      <td>1.023782</td>\n",
       "      <td>6.132797</td>\n",
       "    </tr>\n",
       "    <tr>\n",
       "      <th>1</th>\n",
       "      <td>62.570000</td>\n",
       "      <td>1.210000</td>\n",
       "      <td>15.260000</td>\n",
       "      <td>6.450000</td>\n",
       "      <td>3.630000</td>\n",
       "      <td>1.240000</td>\n",
       "      <td>1.210000</td>\n",
       "      <td>6.440000</td>\n",
       "      <td>0.300000</td>\n",
       "      <td>9.0000</td>\n",
       "      <td>4.0000</td>\n",
       "      <td>21.0</td>\n",
       "      <td>260.0</td>\n",
       "      <td>66.0000</td>\n",
       "      <td>496.000</td>\n",
       "      <td>14.0000</td>\n",
       "      <td>200.00000</td>\n",
       "      <td>28.000000</td>\n",
       "      <td>61.500000</td>\n",
       "      <td>NaN</td>\n",
       "      <td>34.7</td>\n",
       "      <td>8.640000</td>\n",
       "      <td>2.360000</td>\n",
       "      <td>9.160000</td>\n",
       "      <td>NaN</td>\n",
       "      <td>9.740000</td>\n",
       "      <td>6.430000</td>\n",
       "      <td>6.120000</td>\n",
       "      <td>NaN</td>\n",
       "      <td>NaN</td>\n",
       "      <td>4.00000</td>\n",
       "      <td>1.133987</td>\n",
       "      <td>3.939394</td>\n",
       "    </tr>\n",
       "    <tr>\n",
       "      <th>2</th>\n",
       "      <td>64.360000</td>\n",
       "      <td>0.600000</td>\n",
       "      <td>16.540000</td>\n",
       "      <td>4.010000</td>\n",
       "      <td>4.930000</td>\n",
       "      <td>2.090000</td>\n",
       "      <td>2.040000</td>\n",
       "      <td>4.200000</td>\n",
       "      <td>0.240000</td>\n",
       "      <td>38.0000</td>\n",
       "      <td>NaN</td>\n",
       "      <td>57.0</td>\n",
       "      <td>470.0</td>\n",
       "      <td>8.0000</td>\n",
       "      <td>141.000</td>\n",
       "      <td>5.0000</td>\n",
       "      <td>449.00000</td>\n",
       "      <td>28.500000</td>\n",
       "      <td>58.800000</td>\n",
       "      <td>NaN</td>\n",
       "      <td>19.5</td>\n",
       "      <td>3.400000</td>\n",
       "      <td>1.400000</td>\n",
       "      <td>NaN</td>\n",
       "      <td>0.770000</td>\n",
       "      <td>NaN</td>\n",
       "      <td>NaN</td>\n",
       "      <td>1.200000</td>\n",
       "      <td>0.250000</td>\n",
       "      <td>4.100000</td>\n",
       "      <td>11.60000</td>\n",
       "      <td>2.780927</td>\n",
       "      <td>58.750000</td>\n",
       "    </tr>\n",
       "    <tr>\n",
       "      <th>3</th>\n",
       "      <td>62.350000</td>\n",
       "      <td>0.790000</td>\n",
       "      <td>16.610000</td>\n",
       "      <td>5.430000</td>\n",
       "      <td>5.710000</td>\n",
       "      <td>2.870000</td>\n",
       "      <td>2.090000</td>\n",
       "      <td>4.170000</td>\n",
       "      <td>0.230000</td>\n",
       "      <td>28.0000</td>\n",
       "      <td>19.0000</td>\n",
       "      <td>57.0</td>\n",
       "      <td>511.0</td>\n",
       "      <td>15.0000</td>\n",
       "      <td>149.000</td>\n",
       "      <td>10.0000</td>\n",
       "      <td>447.00000</td>\n",
       "      <td>29.600000</td>\n",
       "      <td>59.700000</td>\n",
       "      <td>NaN</td>\n",
       "      <td>20.0</td>\n",
       "      <td>4.000000</td>\n",
       "      <td>1.100000</td>\n",
       "      <td>NaN</td>\n",
       "      <td>0.660000</td>\n",
       "      <td>NaN</td>\n",
       "      <td>NaN</td>\n",
       "      <td>1.320000</td>\n",
       "      <td>0.220000</td>\n",
       "      <td>4.100000</td>\n",
       "      <td>10.40000</td>\n",
       "      <td>2.723487</td>\n",
       "      <td>34.066667</td>\n",
       "    </tr>\n",
       "    <tr>\n",
       "      <th>4</th>\n",
       "      <td>62.040000</td>\n",
       "      <td>0.790000</td>\n",
       "      <td>16.590000</td>\n",
       "      <td>5.460000</td>\n",
       "      <td>5.720000</td>\n",
       "      <td>2.910000</td>\n",
       "      <td>2.160000</td>\n",
       "      <td>4.110000</td>\n",
       "      <td>0.250000</td>\n",
       "      <td>26.0000</td>\n",
       "      <td>18.0000</td>\n",
       "      <td>63.0</td>\n",
       "      <td>463.0</td>\n",
       "      <td>16.0000</td>\n",
       "      <td>150.000</td>\n",
       "      <td>11.0000</td>\n",
       "      <td>444.00000</td>\n",
       "      <td>29.300000</td>\n",
       "      <td>60.100000</td>\n",
       "      <td>NaN</td>\n",
       "      <td>21.1</td>\n",
       "      <td>4.000000</td>\n",
       "      <td>1.100000</td>\n",
       "      <td>NaN</td>\n",
       "      <td>0.470000</td>\n",
       "      <td>NaN</td>\n",
       "      <td>NaN</td>\n",
       "      <td>1.540000</td>\n",
       "      <td>0.190000</td>\n",
       "      <td>4.600000</td>\n",
       "      <td>10.70000</td>\n",
       "      <td>2.559149</td>\n",
       "      <td>28.937500</td>\n",
       "    </tr>\n",
       "  </tbody>\n",
       "</table>\n",
       "</div>"
      ],
      "text/plain": [
       "   SIO2(WT%)  TIO2(WT%)  AL2O3(WT%)  FEOT(WT%)  CAO(WT%)  MGO(WT%)  K2O(WT%)  \\\n",
       "0  59.702065   1.458461   15.862021   7.031831  4.653029  2.020201  1.122293   \n",
       "1  62.570000   1.210000   15.260000   6.450000  3.630000  1.240000  1.210000   \n",
       "2  64.360000   0.600000   16.540000   4.010000  4.930000  2.090000  2.040000   \n",
       "3  62.350000   0.790000   16.610000   5.430000  5.710000  2.870000  2.090000   \n",
       "4  62.040000   0.790000   16.590000   5.460000  5.720000  2.910000  2.160000   \n",
       "\n",
       "   NA2O(WT%)  P2O5(WT%)  CR(PPM)  NI(PPM)  RB(PPM)  SR(PPM)   Y(PPM)  ZR(PPM)  \\\n",
       "0   6.015838   0.456267   1.1964   1.3958     16.0    310.0  50.5479  335.989   \n",
       "1   6.440000   0.300000   9.0000   4.0000     21.0    260.0  66.0000  496.000   \n",
       "2   4.200000   0.240000  38.0000      NaN     57.0    470.0   8.0000  141.000   \n",
       "3   4.170000   0.230000  28.0000  19.0000     57.0    511.0  15.0000  149.000   \n",
       "4   4.110000   0.250000  26.0000  18.0000     63.0    463.0  16.0000  150.000   \n",
       "\n",
       "   NB(PPM)    BA(PPM)    LA(PPM)    CE(PPM)   PR(PPM)  ND(PPM)   SM(PPM)  \\\n",
       "0  11.1664  178.83454  20.482725  49.901815  6.997974     30.9  8.239798   \n",
       "1  14.0000  200.00000  28.000000  61.500000       NaN     34.7  8.640000   \n",
       "2   5.0000  449.00000  28.500000  58.800000       NaN     19.5  3.400000   \n",
       "3  10.0000  447.00000  29.600000  59.700000       NaN     20.0  4.000000   \n",
       "4  11.0000  444.00000  29.300000  60.100000       NaN     21.1  4.000000   \n",
       "\n",
       "    EU(PPM)   GD(PPM)   TB(PPM)   DY(PPM)   ER(PPM)   YB(PPM)   LU(PPM)  \\\n",
       "0  2.461873  8.830307  1.507821  9.519362  5.387897  4.998533  0.783026   \n",
       "1  2.360000  9.160000       NaN  9.740000  6.430000  6.120000       NaN   \n",
       "2  1.400000       NaN  0.770000       NaN       NaN  1.200000  0.250000   \n",
       "3  1.100000       NaN  0.660000       NaN       NaN  1.320000  0.220000   \n",
       "4  1.100000       NaN  0.470000       NaN       NaN  1.540000  0.190000   \n",
       "\n",
       "    HF(PPM)   TH(PPM)  Ln((La/Yb)n)       Sr/Y  \n",
       "0  7.709839   2.73459      1.023782   6.132797  \n",
       "1       NaN   4.00000      1.133987   3.939394  \n",
       "2  4.100000  11.60000      2.780927  58.750000  \n",
       "3  4.100000  10.40000      2.723487  34.066667  \n",
       "4  4.600000  10.70000      2.559149  28.937500  "
      ]
     },
     "execution_count": 15,
     "metadata": {},
     "output_type": "execute_result"
    }
   ],
   "source": [
    "y.head()"
   ]
  },
  {
   "cell_type": "code",
   "execution_count": 16,
   "id": "bb86c0ca",
   "metadata": {},
   "outputs": [],
   "source": [
    "def plot_importance(feature_df, model, n_feature):\n",
    "    '''\n",
    "    Input:\n",
    "        feature_df: The feature dataframe / The X_train with column names\n",
    "        model: The training model\n",
    "        n_feature: number of feature importance you want to display\n",
    "    Output:\n",
    "        A plot with the top n feature importance in decreasing order\n",
    "    '''\n",
    "    vals = model.feature_importances_\n",
    "    df = pd.DataFrame(vals, index=feature_df.columns, columns=['Importance']).sort_values(by='Importance', ascending=False)\n",
    "    df_n = df.iloc[:n_feature,]\n",
    "    plt.figure(figsize=(16, 9))\n",
    "    sns.barplot(df_n.index, df_n.Importance, palette=\"Set3\")\n",
    "    plt.xticks(rotation=45)"
   ]
  },
  {
   "cell_type": "code",
   "execution_count": 17,
   "id": "98b8ebe7",
   "metadata": {},
   "outputs": [],
   "source": [
    "def get_metrics(mod, X_train, X_test, y_train, y_test):\n",
    "    \"\"\" Returns a data frame of metrics (precision,\n",
    "        recall, AUC ROC) from training and test sets.\n",
    "        Assumes model has decision_function() method.\n",
    "        This will at least work for SVC, LDA, QDA.\n",
    "    \"\"\"\n",
    "    pred_train = mod.predict(X_train)\n",
    "    pred_test = mod.predict(X_test)\n",
    "    recall_train = recall_score(y_train, pred_train,average='weighted')\n",
    "    recall_test = recall_score(y_test, pred_test, average='weighted')\n",
    "    precision_train = precision_score(y_train, pred_train, average='weighted')\n",
    "    precision_test = precision_score(y_test, pred_test, average='weighted')\n",
    "    #rocauc_train = roc_auc_score(y_train, pred_train, average='weighted', multi_class='ovr')\n",
    "    #rocauc_test = roc_auc_score(y_test, pred_test,average='weighted',multi_class='ovr')\n",
    "    metrics = {'Set':['Train', 'Test'],\n",
    "               'Recall':[recall_train, recall_test],\n",
    "               'Precision':[precision_train, precision_test],\n",
    "               #'ROC AUC':[rocauc_train, rocauc_test]}\n",
    "              }\n",
    "    return pd.DataFrame(metrics)"
   ]
  },
  {
   "cell_type": "code",
   "execution_count": 18,
   "id": "924d2d2b",
   "metadata": {},
   "outputs": [
    {
     "data": {
      "text/plain": [
       "((2195, 33), (549, 33), (2195,), (549,))"
      ]
     },
     "execution_count": 18,
     "metadata": {},
     "output_type": "execute_result"
    }
   ],
   "source": [
    "X_train, X_test, y_train, y_test = train_test_split(y, Label, test_size=0.2, \n",
    "                                                    stratify = Label, random_state = 2020)\n",
    "y_train = y_train-2\n",
    "y_test = y_test-2\n",
    "X_train.shape, X_test.shape, y_train.shape, y_test.shape"
   ]
  },
  {
   "cell_type": "code",
   "execution_count": 19,
   "id": "d75c1197",
   "metadata": {},
   "outputs": [
    {
     "data": {
      "text/plain": [
       "<AxesSubplot:xlabel='Label', ylabel='count'>"
      ]
     },
     "execution_count": 19,
     "metadata": {},
     "output_type": "execute_result"
    },
    {
     "data": {
      "image/png": "[encoded data removed]",
      "text/plain": [
       "<Figure size 1152x432 with 1 Axes>"
      ]
     },
     "metadata": {
      "needs_background": "light"
     },
     "output_type": "display_data"
    }
   ],
   "source": [
    "plt.figure(figsize=(16, 6))\n",
    "sns.countplot(y_train, palette=\"Set3\")"
   ]
  },
  {
   "cell_type": "markdown",
   "id": "675fa17c",
   "metadata": {},
   "source": [
    "#    Xgboost"
   ]
  },
  {
   "cell_type": "markdown",
   "id": "d145118c",
   "metadata": {},
   "source": [
    "## SIMPLE MODEL"
   ]
  },
  {
   "cell_type": "code",
   "execution_count": 20,
   "id": "be751018",
   "metadata": {},
   "outputs": [],
   "source": [
    "xg = XGBClassifier(random_state=1314)\n",
    "xg.fit(X_train, y_train)\n",
    "y_train_preds = xg.predict(X_train)\n",
    "y_test_preds = xg.predict(X_test)"
   ]
  },
  {
   "cell_type": "code",
   "execution_count": 21,
   "id": "04ac99ee",
   "metadata": {},
   "outputs": [
    {
     "name": "stdout",
     "output_type": "stream",
     "text": [
      "     Set    Recall  Precision\n",
      "0  Train  1.000000   1.000000\n",
      "1   Test  0.896175   0.897264\n"
     ]
    },
    {
     "data": {
      "image/png": "[encoded data removed]",
      "text/plain": [
       "<Figure size 1152x648 with 1 Axes>"
      ]
     },
     "metadata": {
      "needs_background": "light"
     },
     "output_type": "display_data"
    }
   ],
   "source": [
    "print(get_metrics(xg, X_train, X_test, y_train, y_test))\n",
    "plot_importance(y, xg, 35)"
   ]
  },
  {
   "cell_type": "code",
   "execution_count": 22,
   "id": "a365cd76",
   "metadata": {},
   "outputs": [],
   "source": [
    "xgb = XGBClassifier(objective='multi:softmax', num_class = 5, \n",
    "                    eval_metric = 'merror', seed=2021)\n",
    "xgb.fit(X_train, y_train)\n",
    "y_train_preds = xgb.predict(X_train)\n",
    "y_test_preds = xgb.predict(X_test)\n"
   ]
  },
  {
   "cell_type": "code",
   "execution_count": 23,
   "id": "aa92d785",
   "metadata": {},
   "outputs": [
    {
     "data": {
      "text/html": [
       "<div>\n",
       "<style scoped>\n",
       "    .dataframe tbody tr th:only-of-type {\n",
       "        vertical-align: middle;\n",
       "    }\n",
       "\n",
       "    .dataframe tbody tr th {\n",
       "        vertical-align: top;\n",
       "    }\n",
       "\n",
       "    .dataframe thead th {\n",
       "        text-align: right;\n",
       "    }\n",
       "</style>\n",
       "<table border=\"1\" class=\"dataframe\">\n",
       "  <thead>\n",
       "    <tr style=\"text-align: right;\">\n",
       "      <th></th>\n",
       "      <th>Set</th>\n",
       "      <th>Recall</th>\n",
       "      <th>Precision</th>\n",
       "    </tr>\n",
       "  </thead>\n",
       "  <tbody>\n",
       "    <tr>\n",
       "      <th>0</th>\n",
       "      <td>Train</td>\n",
       "      <td>1.000000</td>\n",
       "      <td>1.000000</td>\n",
       "    </tr>\n",
       "    <tr>\n",
       "      <th>1</th>\n",
       "      <td>Test</td>\n",
       "      <td>0.896175</td>\n",
       "      <td>0.897264</td>\n",
       "    </tr>\n",
       "  </tbody>\n",
       "</table>\n",
       "</div>"
      ],
      "text/plain": [
       "     Set    Recall  Precision\n",
       "0  Train  1.000000   1.000000\n",
       "1   Test  0.896175   0.897264"
      ]
     },
     "execution_count": 23,
     "metadata": {},
     "output_type": "execute_result"
    }
   ],
   "source": [
    "get_metrics(xgb, X_train, X_test, y_train, y_test)"
   ]
  },
  {
   "cell_type": "code",
   "execution_count": 24,
   "id": "547f9c62",
   "metadata": {},
   "outputs": [
    {
     "data": {
      "image/png": "[encoded data removed]",
      "text/plain": [
       "<Figure size 1152x648 with 1 Axes>"
      ]
     },
     "metadata": {
      "needs_background": "light"
     },
     "output_type": "display_data"
    }
   ],
   "source": [
    "plot_importance(y, xgb, 35)"
   ]
  },
  {
   "cell_type": "markdown",
   "id": "cd93c41b",
   "metadata": {},
   "source": [
    "## model optimization"
   ]
  },
  {
   "cell_type": "code",
   "execution_count": 25,
   "id": "a6b0a6c9",
   "metadata": {},
   "outputs": [],
   "source": [
    "learning_rate = [0.01, 0.05, 0.1, 0.2, 1]\n",
    "depth = [3, 4, 5, 6, 7]\n",
    "min_split = [1, 2, 3, 4, 5]"
   ]
  },
  {
   "cell_type": "code",
   "execution_count": 26,
   "id": "bfc9a906",
   "metadata": {},
   "outputs": [],
   "source": [
    "xgb = XGBClassifier(objective='multi:softmax', num_class = 5, \n",
    "                    eval_metric = 'merror', tree_method='hist', seed=2021)"
   ]
  },
  {
   "cell_type": "code",
   "execution_count": 27,
   "id": "bd1d9878",
   "metadata": {},
   "outputs": [
    {
     "data": {
      "text/html": [
       "<style>#sk-container-id-1 {color: black;background-color: white;}#sk-container-id-1 pre{padding: 0;}#sk-container-id-1 div.sk-toggleable {background-color: white;}#sk-container-id-1 label.sk-toggleable__label {cursor: pointer;display: block;width: 100%;margin-bottom: 0;padding: 0.3em;box-sizing: border-box;text-align: center;}#sk-container-id-1 label.sk-toggleable__label-arrow:before {content: \"▸\";float: left;margin-right: 0.25em;color: #696969;}#sk-container-id-1 label.sk-toggleable__label-arrow:hover:before {color: black;}#sk-container-id-1 div.sk-estimator:hover label.sk-toggleable__label-arrow:before {color: black;}#sk-container-id-1 div.sk-toggleable__content {max-height: 0;max-width: 0;overflow: hidden;text-align: left;background-color: #f0f8ff;}#sk-container-id-1 div.sk-toggleable__content pre {margin: 0.2em;color: black;border-radius: 0.25em;background-color: #f0f8ff;}#sk-container-id-1 input.sk-toggleable__control:checked~div.sk-toggleable__content {max-height: 200px;max-width: 100%;overflow: auto;}#sk-container-id-1 input.sk-toggleable__control:checked~label.sk-toggleable__label-arrow:before {content: \"▾\";}#sk-container-id-1 div.sk-estimator input.sk-toggleable__control:checked~label.sk-toggleable__label {background-color: #d4ebff;}#sk-container-id-1 div.sk-label input.sk-toggleable__control:checked~label.sk-toggleable__label {background-color: #d4ebff;}#sk-container-id-1 input.sk-hidden--visually {border: 0;clip: rect(1px 1px 1px 1px);clip: rect(1px, 1px, 1px, 1px);height: 1px;margin: -1px;overflow: hidden;padding: 0;position: absolute;width: 1px;}#sk-container-id-1 div.sk-estimator {font-family: monospace;background-color: #f0f8ff;border: 1px dotted black;border-radius: 0.25em;box-sizing: border-box;margin-bottom: 0.5em;}#sk-container-id-1 div.sk-estimator:hover {background-color: #d4ebff;}#sk-container-id-1 div.sk-parallel-item::after {content: \"\";width: 100%;border-bottom: 1px solid gray;flex-grow: 1;}#sk-container-id-1 div.sk-label:hover label.sk-toggleable__label {background-color: #d4ebff;}#sk-container-id-1 div.sk-serial::before {content: \"\";position: absolute;border-left: 1px solid gray;box-sizing: border-box;top: 0;bottom: 0;left: 50%;z-index: 0;}#sk-container-id-1 div.sk-serial {display: flex;flex-direction: column;align-items: center;background-color: white;padding-right: 0.2em;padding-left: 0.2em;position: relative;}#sk-container-id-1 div.sk-item {position: relative;z-index: 1;}#sk-container-id-1 div.sk-parallel {display: flex;align-items: stretch;justify-content: center;background-color: white;position: relative;}#sk-container-id-1 div.sk-item::before, #sk-container-id-1 div.sk-parallel-item::before {content: \"\";position: absolute;border-left: 1px solid gray;box-sizing: border-box;top: 0;bottom: 0;left: 50%;z-index: -1;}#sk-container-id-1 div.sk-parallel-item {display: flex;flex-direction: column;z-index: 1;position: relative;background-color: white;}#sk-container-id-1 div.sk-parallel-item:first-child::after {align-self: flex-end;width: 50%;}#sk-container-id-1 div.sk-parallel-item:last-child::after {align-self: flex-start;width: 50%;}#sk-container-id-1 div.sk-parallel-item:only-child::after {width: 0;}#sk-container-id-1 div.sk-dashed-wrapped {border: 1px dashed gray;margin: 0 0.4em 0.5em 0.4em;box-sizing: border-box;padding-bottom: 0.4em;background-color: white;}#sk-container-id-1 div.sk-label label {font-family: monospace;font-weight: bold;display: inline-block;line-height: 1.2em;}#sk-container-id-1 div.sk-label-container {text-align: center;}#sk-container-id-1 div.sk-container {/* jupyter's `normalize.less` sets `[hidden] { display: none; }` but bootstrap.min.css set `[hidden] { display: none !important; }` so we also need the `!important` here to be able to override the default hidden behavior on the sphinx rendered scikit-learn.org. See: https://github.com/scikit-learn/scikit-learn/issues/21755 */display: inline-block !important;position: relative;}#sk-container-id-1 div.sk-text-repr-fallback {display: none;}</style><div id=\"sk-container-id-1\" class=\"sk-top-container\"><div class=\"sk-text-repr-fallback\"><pre>GridSearchCV(cv=5,\n",
       "             estimator=XGBClassifier(base_score=None, booster=None,\n",
       "                                     callbacks=None, colsample_bylevel=None,\n",
       "                                     colsample_bynode=None,\n",
       "                                     colsample_bytree=None,\n",
       "                                     early_stopping_rounds=None,\n",
       "                                     enable_categorical=False,\n",
       "                                     eval_metric=&#x27;merror&#x27;, feature_types=None,\n",
       "                                     gamma=None, gpu_id=None, grow_policy=None,\n",
       "                                     importance_type=None,\n",
       "                                     interaction_constraints=None,\n",
       "                                     learning_rate=N...\n",
       "                                     max_cat_threshold=None,\n",
       "                                     max_cat_to_onehot=None,\n",
       "                                     max_delta_step=None, max_depth=None,\n",
       "                                     max_leaves=None, min_child_weight=None,\n",
       "                                     missing=nan, monotone_constraints=None,\n",
       "                                     n_estimators=100, n_jobs=None, num_class=5,\n",
       "                                     num_parallel_tree=None,\n",
       "                                     objective=&#x27;multi:softmax&#x27;, ...),\n",
       "             param_grid={&#x27;eta&#x27;: [0.01, 0.05, 0.1, 0.2, 1],\n",
       "                         &#x27;gamma&#x27;: [1, 2, 3, 4, 5],\n",
       "                         &#x27;max_depth&#x27;: [3, 4, 5, 6, 7]},\n",
       "             scoring=&#x27;accuracy&#x27;)</pre><b>In a Jupyter environment, please rerun this cell to show the HTML representation or trust the notebook. <br />On GitHub, the HTML representation is unable to render, please try loading this page with nbviewer.org.</b></div><div class=\"sk-container\" hidden><div class=\"sk-item sk-dashed-wrapped\"><div class=\"sk-label-container\"><div class=\"sk-label sk-toggleable\"><input class=\"sk-toggleable__control sk-hidden--visually\" id=\"sk-estimator-id-1\" type=\"checkbox\" ><label for=\"sk-estimator-id-1\" class=\"sk-toggleable__label sk-toggleable__label-arrow\">GridSearchCV</label><div class=\"sk-toggleable__content\"><pre>GridSearchCV(cv=5,\n",
       "             estimator=XGBClassifier(base_score=None, booster=None,\n",
       "                                     callbacks=None, colsample_bylevel=None,\n",
       "                                     colsample_bynode=None,\n",
       "                                     colsample_bytree=None,\n",
       "                                     early_stopping_rounds=None,\n",
       "                                     enable_categorical=False,\n",
       "                                     eval_metric=&#x27;merror&#x27;, feature_types=None,\n",
       "                                     gamma=None, gpu_id=None, grow_policy=None,\n",
       "                                     importance_type=None,\n",
       "                                     interaction_constraints=None,\n",
       "                                     learning_rate=N...\n",
       "                                     max_cat_threshold=None,\n",
       "                                     max_cat_to_onehot=None,\n",
       "                                     max_delta_step=None, max_depth=None,\n",
       "                                     max_leaves=None, min_child_weight=None,\n",
       "                                     missing=nan, monotone_constraints=None,\n",
       "                                     n_estimators=100, n_jobs=None, num_class=5,\n",
       "                                     num_parallel_tree=None,\n",
       "                                     objective=&#x27;multi:softmax&#x27;, ...),\n",
       "             param_grid={&#x27;eta&#x27;: [0.01, 0.05, 0.1, 0.2, 1],\n",
       "                         &#x27;gamma&#x27;: [1, 2, 3, 4, 5],\n",
       "                         &#x27;max_depth&#x27;: [3, 4, 5, 6, 7]},\n",
       "             scoring=&#x27;accuracy&#x27;)</pre></div></div></div><div class=\"sk-parallel\"><div class=\"sk-parallel-item\"><div class=\"sk-item\"><div class=\"sk-label-container\"><div class=\"sk-label sk-toggleable\"><input class=\"sk-toggleable__control sk-hidden--visually\" id=\"sk-estimator-id-2\" type=\"checkbox\" ><label for=\"sk-estimator-id-2\" class=\"sk-toggleable__label sk-toggleable__label-arrow\">estimator: XGBClassifier</label><div class=\"sk-toggleable__content\"><pre>XGBClassifier(base_score=None, booster=None, callbacks=None,\n",
       "              colsample_bylevel=None, colsample_bynode=None,\n",
       "              colsample_bytree=None, early_stopping_rounds=None,\n",
       "              enable_categorical=False, eval_metric=&#x27;merror&#x27;,\n",
       "              feature_types=None, gamma=None, gpu_id=None, grow_policy=None,\n",
       "              importance_type=None, interaction_constraints=None,\n",
       "              learning_rate=None, max_bin=None, max_cat_threshold=None,\n",
       "              max_cat_to_onehot=None, max_delta_step=None, max_depth=None,\n",
       "              max_leaves=None, min_child_weight=None, missing=nan,\n",
       "              monotone_constraints=None, n_estimators=100, n_jobs=None,\n",
       "              num_class=5, num_parallel_tree=None, objective=&#x27;multi:softmax&#x27;, ...)</pre></div></div></div><div class=\"sk-serial\"><div class=\"sk-item\"><div class=\"sk-estimator sk-toggleable\"><input class=\"sk-toggleable__control sk-hidden--visually\" id=\"sk-estimator-id-3\" type=\"checkbox\" ><label for=\"sk-estimator-id-3\" class=\"sk-toggleable__label sk-toggleable__label-arrow\">XGBClassifier</label><div class=\"sk-toggleable__content\"><pre>XGBClassifier(base_score=None, booster=None, callbacks=None,\n",
       "              colsample_bylevel=None, colsample_bynode=None,\n",
       "              colsample_bytree=None, early_stopping_rounds=None,\n",
       "              enable_categorical=False, eval_metric=&#x27;merror&#x27;,\n",
       "              feature_types=None, gamma=None, gpu_id=None, grow_policy=None,\n",
       "              importance_type=None, interaction_constraints=None,\n",
       "              learning_rate=None, max_bin=None, max_cat_threshold=None,\n",
       "              max_cat_to_onehot=None, max_delta_step=None, max_depth=None,\n",
       "              max_leaves=None, min_child_weight=None, missing=nan,\n",
       "              monotone_constraints=None, n_estimators=100, n_jobs=None,\n",
       "              num_class=5, num_parallel_tree=None, objective=&#x27;multi:softmax&#x27;, ...)</pre></div></div></div></div></div></div></div></div></div></div>"
      ],
      "text/plain": [
       "GridSearchCV(cv=5,\n",
       "             estimator=XGBClassifier(base_score=None, booster=None,\n",
       "                                     callbacks=None, colsample_bylevel=None,\n",
       "                                     colsample_bynode=None,\n",
       "                                     colsample_bytree=None,\n",
       "                                     early_stopping_rounds=None,\n",
       "                                     enable_categorical=False,\n",
       "                                     eval_metric='merror', feature_types=None,\n",
       "                                     gamma=None, gpu_id=None, grow_policy=None,\n",
       "                                     importance_type=None,\n",
       "                                     interaction_constraints=None,\n",
       "                                     learning_rate=N...\n",
       "                                     max_cat_threshold=None,\n",
       "                                     max_cat_to_onehot=None,\n",
       "                                     max_delta_step=None, max_depth=None,\n",
       "                                     max_leaves=None, min_child_weight=None,\n",
       "                                     missing=nan, monotone_constraints=None,\n",
       "                                     n_estimators=100, n_jobs=None, num_class=5,\n",
       "                                     num_parallel_tree=None,\n",
       "                                     objective='multi:softmax', ...),\n",
       "             param_grid={'eta': [0.01, 0.05, 0.1, 0.2, 1],\n",
       "                         'gamma': [1, 2, 3, 4, 5],\n",
       "                         'max_depth': [3, 4, 5, 6, 7]},\n",
       "             scoring='accuracy')"
      ]
     },
     "execution_count": 27,
     "metadata": {},
     "output_type": "execute_result"
    }
   ],
   "source": [
    "xgb_cv = GridSearchCV(xgb, param_grid = {'eta': learning_rate, 'gamma': min_split, 'max_depth': depth}, \n",
    "                      cv=5, scoring='accuracy') #weight=\n",
    "xgb_cv.fit(X_train, y_train)"
   ]
  },
  {
   "cell_type": "code",
   "execution_count": 28,
   "id": "3ab4563c",
   "metadata": {},
   "outputs": [
    {
     "data": {
      "text/plain": [
       "{'eta': 0.05, 'gamma': 1, 'max_depth': 7}"
      ]
     },
     "execution_count": 28,
     "metadata": {},
     "output_type": "execute_result"
    }
   ],
   "source": [
    "xgb_cv.best_params_"
   ]
  },
  {
   "cell_type": "code",
   "execution_count": 29,
   "id": "b7747fa3",
   "metadata": {},
   "outputs": [
    {
     "data": {
      "text/html": [
       "<style>#sk-container-id-2 {color: black;background-color: white;}#sk-container-id-2 pre{padding: 0;}#sk-container-id-2 div.sk-toggleable {background-color: white;}#sk-container-id-2 label.sk-toggleable__label {cursor: pointer;display: block;width: 100%;margin-bottom: 0;padding: 0.3em;box-sizing: border-box;text-align: center;}#sk-container-id-2 label.sk-toggleable__label-arrow:before {content: \"▸\";float: left;margin-right: 0.25em;color: #696969;}#sk-container-id-2 label.sk-toggleable__label-arrow:hover:before {color: black;}#sk-container-id-2 div.sk-estimator:hover label.sk-toggleable__label-arrow:before {color: black;}#sk-container-id-2 div.sk-toggleable__content {max-height: 0;max-width: 0;overflow: hidden;text-align: left;background-color: #f0f8ff;}#sk-container-id-2 div.sk-toggleable__content pre {margin: 0.2em;color: black;border-radius: 0.25em;background-color: #f0f8ff;}#sk-container-id-2 input.sk-toggleable__control:checked~div.sk-toggleable__content {max-height: 200px;max-width: 100%;overflow: auto;}#sk-container-id-2 input.sk-toggleable__control:checked~label.sk-toggleable__label-arrow:before {content: \"▾\";}#sk-container-id-2 div.sk-estimator input.sk-toggleable__control:checked~label.sk-toggleable__label {background-color: #d4ebff;}#sk-container-id-2 div.sk-label input.sk-toggleable__control:checked~label.sk-toggleable__label {background-color: #d4ebff;}#sk-container-id-2 input.sk-hidden--visually {border: 0;clip: rect(1px 1px 1px 1px);clip: rect(1px, 1px, 1px, 1px);height: 1px;margin: -1px;overflow: hidden;padding: 0;position: absolute;width: 1px;}#sk-container-id-2 div.sk-estimator {font-family: monospace;background-color: #f0f8ff;border: 1px dotted black;border-radius: 0.25em;box-sizing: border-box;margin-bottom: 0.5em;}#sk-container-id-2 div.sk-estimator:hover {background-color: #d4ebff;}#sk-container-id-2 div.sk-parallel-item::after {content: \"\";width: 100%;border-bottom: 1px solid gray;flex-grow: 1;}#sk-container-id-2 div.sk-label:hover label.sk-toggleable__label {background-color: #d4ebff;}#sk-container-id-2 div.sk-serial::before {content: \"\";position: absolute;border-left: 1px solid gray;box-sizing: border-box;top: 0;bottom: 0;left: 50%;z-index: 0;}#sk-container-id-2 div.sk-serial {display: flex;flex-direction: column;align-items: center;background-color: white;padding-right: 0.2em;padding-left: 0.2em;position: relative;}#sk-container-id-2 div.sk-item {position: relative;z-index: 1;}#sk-container-id-2 div.sk-parallel {display: flex;align-items: stretch;justify-content: center;background-color: white;position: relative;}#sk-container-id-2 div.sk-item::before, #sk-container-id-2 div.sk-parallel-item::before {content: \"\";position: absolute;border-left: 1px solid gray;box-sizing: border-box;top: 0;bottom: 0;left: 50%;z-index: -1;}#sk-container-id-2 div.sk-parallel-item {display: flex;flex-direction: column;z-index: 1;position: relative;background-color: white;}#sk-container-id-2 div.sk-parallel-item:first-child::after {align-self: flex-end;width: 50%;}#sk-container-id-2 div.sk-parallel-item:last-child::after {align-self: flex-start;width: 50%;}#sk-container-id-2 div.sk-parallel-item:only-child::after {width: 0;}#sk-container-id-2 div.sk-dashed-wrapped {border: 1px dashed gray;margin: 0 0.4em 0.5em 0.4em;box-sizing: border-box;padding-bottom: 0.4em;background-color: white;}#sk-container-id-2 div.sk-label label {font-family: monospace;font-weight: bold;display: inline-block;line-height: 1.2em;}#sk-container-id-2 div.sk-label-container {text-align: center;}#sk-container-id-2 div.sk-container {/* jupyter's `normalize.less` sets `[hidden] { display: none; }` but bootstrap.min.css set `[hidden] { display: none !important; }` so we also need the `!important` here to be able to override the default hidden behavior on the sphinx rendered scikit-learn.org. See: https://github.com/scikit-learn/scikit-learn/issues/21755 */display: inline-block !important;position: relative;}#sk-container-id-2 div.sk-text-repr-fallback {display: none;}</style><div id=\"sk-container-id-2\" class=\"sk-top-container\"><div class=\"sk-text-repr-fallback\"><pre>XGBClassifier(base_score=None, booster=None, callbacks=None,\n",
       "              colsample_bylevel=None, colsample_bynode=None,\n",
       "              colsample_bytree=None, early_stopping_rounds=None,\n",
       "              enable_categorical=False, eta=0.05, eval_metric=&#x27;merror&#x27;,\n",
       "              feature_types=None, gamma=1, gpu_id=None, grow_policy=None,\n",
       "              importance_type=None, interaction_constraints=None,\n",
       "              learning_rate=None, max_bin=None, max_cat_threshold=None,\n",
       "              max_cat_to_onehot=None, max_delta_step=None, max_depth=7,\n",
       "              max_leaves=None, min_child_weight=None, missing=nan,\n",
       "              monotone_constraints=None, n_estimators=100, n_jobs=None,\n",
       "              num_class=5, num_parallel_tree=None, ...)</pre><b>In a Jupyter environment, please rerun this cell to show the HTML representation or trust the notebook. <br />On GitHub, the HTML representation is unable to render, please try loading this page with nbviewer.org.</b></div><div class=\"sk-container\" hidden><div class=\"sk-item\"><div class=\"sk-estimator sk-toggleable\"><input class=\"sk-toggleable__control sk-hidden--visually\" id=\"sk-estimator-id-4\" type=\"checkbox\" checked><label for=\"sk-estimator-id-4\" class=\"sk-toggleable__label sk-toggleable__label-arrow\">XGBClassifier</label><div class=\"sk-toggleable__content\"><pre>XGBClassifier(base_score=None, booster=None, callbacks=None,\n",
       "              colsample_bylevel=None, colsample_bynode=None,\n",
       "              colsample_bytree=None, early_stopping_rounds=None,\n",
       "              enable_categorical=False, eta=0.05, eval_metric=&#x27;merror&#x27;,\n",
       "              feature_types=None, gamma=1, gpu_id=None, grow_policy=None,\n",
       "              importance_type=None, interaction_constraints=None,\n",
       "              learning_rate=None, max_bin=None, max_cat_threshold=None,\n",
       "              max_cat_to_onehot=None, max_delta_step=None, max_depth=7,\n",
       "              max_leaves=None, min_child_weight=None, missing=nan,\n",
       "              monotone_constraints=None, n_estimators=100, n_jobs=None,\n",
       "              num_class=5, num_parallel_tree=None, ...)</pre></div></div></div></div></div>"
      ],
      "text/plain": [
       "XGBClassifier(base_score=None, booster=None, callbacks=None,\n",
       "              colsample_bylevel=None, colsample_bynode=None,\n",
       "              colsample_bytree=None, early_stopping_rounds=None,\n",
       "              enable_categorical=False, eta=0.05, eval_metric='merror',\n",
       "              feature_types=None, gamma=1, gpu_id=None, grow_policy=None,\n",
       "              importance_type=None, interaction_constraints=None,\n",
       "              learning_rate=None, max_bin=None, max_cat_threshold=None,\n",
       "              max_cat_to_onehot=None, max_delta_step=None, max_depth=7,\n",
       "              max_leaves=None, min_child_weight=None, missing=nan,\n",
       "              monotone_constraints=None, n_estimators=100, n_jobs=None,\n",
       "              num_class=5, num_parallel_tree=None, ...)"
      ]
     },
     "execution_count": 29,
     "metadata": {},
     "output_type": "execute_result"
    }
   ],
   "source": [
    "xgb_cv.best_estimator_"
   ]
  },
  {
   "cell_type": "code",
   "execution_count": 30,
   "id": "0f67cf78",
   "metadata": {},
   "outputs": [
    {
     "data": {
      "text/plain": [
       "0.8350797266514807"
      ]
     },
     "execution_count": 30,
     "metadata": {},
     "output_type": "execute_result"
    }
   ],
   "source": [
    "xgb_cv.best_score_"
   ]
  },
  {
   "cell_type": "code",
   "execution_count": 31,
   "id": "ee920ebe",
   "metadata": {},
   "outputs": [],
   "source": [
    "xgb_best = xgb_cv.best_estimator_"
   ]
  },
  {
   "cell_type": "code",
   "execution_count": 32,
   "id": "cd53890a",
   "metadata": {},
   "outputs": [],
   "source": [
    "y_train_preds = xgb_best.predict(X_train)\n",
    "y_test_preds = xgb_best.predict(X_test)"
   ]
  },
  {
   "cell_type": "code",
   "execution_count": 33,
   "id": "8f98d36f",
   "metadata": {},
   "outputs": [
    {
     "name": "stdout",
     "output_type": "stream",
     "text": [
      "     Set    Recall  Precision\n",
      "0  Train  0.991344   0.991373\n",
      "1   Test  0.867031   0.868885\n"
     ]
    }
   ],
   "source": [
    "print(get_metrics(xgb_best, X_train, X_test, y_train, y_test))"
   ]
  },
  {
   "cell_type": "code",
   "execution_count": 34,
   "id": "05204039",
   "metadata": {},
   "outputs": [
    {
     "data": {
      "image/png": "[encoded data removed]",
      "text/plain": [
       "<Figure size 1152x648 with 1 Axes>"
      ]
     },
     "metadata": {
      "needs_background": "light"
     },
     "output_type": "display_data"
    }
   ],
   "source": [
    "plot_importance(y, xgb_best, 35)"
   ]
  },
  {
   "cell_type": "code",
   "execution_count": 57,
   "id": "d8d69276",
   "metadata": {},
   "outputs": [],
   "source": []
  },
  {
   "cell_type": "markdown",
   "id": "c83d2f63",
   "metadata": {},
   "source": [
    "## Save the model"
   ]
  },
  {
   "cell_type": "code",
   "execution_count": 58,
   "id": "c39a6424",
   "metadata": {},
   "outputs": [
    {
     "data": {
      "text/html": [
       "<style>#sk-container-id-3 {color: black;background-color: white;}#sk-container-id-3 pre{padding: 0;}#sk-container-id-3 div.sk-toggleable {background-color: white;}#sk-container-id-3 label.sk-toggleable__label {cursor: pointer;display: block;width: 100%;margin-bottom: 0;padding: 0.3em;box-sizing: border-box;text-align: center;}#sk-container-id-3 label.sk-toggleable__label-arrow:before {content: \"▸\";float: left;margin-right: 0.25em;color: #696969;}#sk-container-id-3 label.sk-toggleable__label-arrow:hover:before {color: black;}#sk-container-id-3 div.sk-estimator:hover label.sk-toggleable__label-arrow:before {color: black;}#sk-container-id-3 div.sk-toggleable__content {max-height: 0;max-width: 0;overflow: hidden;text-align: left;background-color: #f0f8ff;}#sk-container-id-3 div.sk-toggleable__content pre {margin: 0.2em;color: black;border-radius: 0.25em;background-color: #f0f8ff;}#sk-container-id-3 input.sk-toggleable__control:checked~div.sk-toggleable__content {max-height: 200px;max-width: 100%;overflow: auto;}#sk-container-id-3 input.sk-toggleable__control:checked~label.sk-toggleable__label-arrow:before {content: \"▾\";}#sk-container-id-3 div.sk-estimator input.sk-toggleable__control:checked~label.sk-toggleable__label {background-color: #d4ebff;}#sk-container-id-3 div.sk-label input.sk-toggleable__control:checked~label.sk-toggleable__label {background-color: #d4ebff;}#sk-container-id-3 input.sk-hidden--visually {border: 0;clip: rect(1px 1px 1px 1px);clip: rect(1px, 1px, 1px, 1px);height: 1px;margin: -1px;overflow: hidden;padding: 0;position: absolute;width: 1px;}#sk-container-id-3 div.sk-estimator {font-family: monospace;background-color: #f0f8ff;border: 1px dotted black;border-radius: 0.25em;box-sizing: border-box;margin-bottom: 0.5em;}#sk-container-id-3 div.sk-estimator:hover {background-color: #d4ebff;}#sk-container-id-3 div.sk-parallel-item::after {content: \"\";width: 100%;border-bottom: 1px solid gray;flex-grow: 1;}#sk-container-id-3 div.sk-label:hover label.sk-toggleable__label {background-color: #d4ebff;}#sk-container-id-3 div.sk-serial::before {content: \"\";position: absolute;border-left: 1px solid gray;box-sizing: border-box;top: 0;bottom: 0;left: 50%;z-index: 0;}#sk-container-id-3 div.sk-serial {display: flex;flex-direction: column;align-items: center;background-color: white;padding-right: 0.2em;padding-left: 0.2em;position: relative;}#sk-container-id-3 div.sk-item {position: relative;z-index: 1;}#sk-container-id-3 div.sk-parallel {display: flex;align-items: stretch;justify-content: center;background-color: white;position: relative;}#sk-container-id-3 div.sk-item::before, #sk-container-id-3 div.sk-parallel-item::before {content: \"\";position: absolute;border-left: 1px solid gray;box-sizing: border-box;top: 0;bottom: 0;left: 50%;z-index: -1;}#sk-container-id-3 div.sk-parallel-item {display: flex;flex-direction: column;z-index: 1;position: relative;background-color: white;}#sk-container-id-3 div.sk-parallel-item:first-child::after {align-self: flex-end;width: 50%;}#sk-container-id-3 div.sk-parallel-item:last-child::after {align-self: flex-start;width: 50%;}#sk-container-id-3 div.sk-parallel-item:only-child::after {width: 0;}#sk-container-id-3 div.sk-dashed-wrapped {border: 1px dashed gray;margin: 0 0.4em 0.5em 0.4em;box-sizing: border-box;padding-bottom: 0.4em;background-color: white;}#sk-container-id-3 div.sk-label label {font-family: monospace;font-weight: bold;display: inline-block;line-height: 1.2em;}#sk-container-id-3 div.sk-label-container {text-align: center;}#sk-container-id-3 div.sk-container {/* jupyter's `normalize.less` sets `[hidden] { display: none; }` but bootstrap.min.css set `[hidden] { display: none !important; }` so we also need the `!important` here to be able to override the default hidden behavior on the sphinx rendered scikit-learn.org. See: https://github.com/scikit-learn/scikit-learn/issues/21755 */display: inline-block !important;position: relative;}#sk-container-id-3 div.sk-text-repr-fallback {display: none;}</style><div id=\"sk-container-id-3\" class=\"sk-top-container\"><div class=\"sk-text-repr-fallback\"><pre>XGBClassifier(base_score=None, booster=None, callbacks=None,\n",
       "              colsample_bylevel=None, colsample_bynode=None,\n",
       "              colsample_bytree=None, early_stopping_rounds=None,\n",
       "              enable_categorical=False, eta=0.1, eval_metric=&#x27;merror&#x27;,\n",
       "              feature_types=None, gamma=1, gpu_id=None, grow_policy=None,\n",
       "              importance_type=None, interaction_constraints=None,\n",
       "              learning_rate=None, max_bin=None, max_cat_threshold=None,\n",
       "              max_cat_to_onehot=None, max_delta_step=None, max_depth=6,\n",
       "              max_leaves=None, min_child_weight=None, missing=nan,\n",
       "              monotone_constraints=None, n_estimators=100, n_jobs=None,\n",
       "              num_class=7, num_parallel_tree=None, ...)</pre><b>In a Jupyter environment, please rerun this cell to show the HTML representation or trust the notebook. <br />On GitHub, the HTML representation is unable to render, please try loading this page with nbviewer.org.</b></div><div class=\"sk-container\" hidden><div class=\"sk-item\"><div class=\"sk-estimator sk-toggleable\"><input class=\"sk-toggleable__control sk-hidden--visually\" id=\"sk-estimator-id-5\" type=\"checkbox\" checked><label for=\"sk-estimator-id-5\" class=\"sk-toggleable__label sk-toggleable__label-arrow\">XGBClassifier</label><div class=\"sk-toggleable__content\"><pre>XGBClassifier(base_score=None, booster=None, callbacks=None,\n",
       "              colsample_bylevel=None, colsample_bynode=None,\n",
       "              colsample_bytree=None, early_stopping_rounds=None,\n",
       "              enable_categorical=False, eta=0.1, eval_metric=&#x27;merror&#x27;,\n",
       "              feature_types=None, gamma=1, gpu_id=None, grow_policy=None,\n",
       "              importance_type=None, interaction_constraints=None,\n",
       "              learning_rate=None, max_bin=None, max_cat_threshold=None,\n",
       "              max_cat_to_onehot=None, max_delta_step=None, max_depth=6,\n",
       "              max_leaves=None, min_child_weight=None, missing=nan,\n",
       "              monotone_constraints=None, n_estimators=100, n_jobs=None,\n",
       "              num_class=7, num_parallel_tree=None, ...)</pre></div></div></div></div></div>"
      ],
      "text/plain": [
       "XGBClassifier(base_score=None, booster=None, callbacks=None,\n",
       "              colsample_bylevel=None, colsample_bynode=None,\n",
       "              colsample_bytree=None, early_stopping_rounds=None,\n",
       "              enable_categorical=False, eta=0.1, eval_metric='merror',\n",
       "              feature_types=None, gamma=1, gpu_id=None, grow_policy=None,\n",
       "              importance_type=None, interaction_constraints=None,\n",
       "              learning_rate=None, max_bin=None, max_cat_threshold=None,\n",
       "              max_cat_to_onehot=None, max_delta_step=None, max_depth=6,\n",
       "              max_leaves=None, min_child_weight=None, missing=nan,\n",
       "              monotone_constraints=None, n_estimators=100, n_jobs=None,\n",
       "              num_class=7, num_parallel_tree=None, ...)"
      ]
     },
     "execution_count": 58,
     "metadata": {},
     "output_type": "execute_result"
    }
   ],
   "source": [
    "xgb_best = XGBClassifier(objective='multi:softmax', num_class = 7, eval_metric = 'merror', tree_method='hist', \n",
    "                    eta = 0.1, gamma = 1, max_depth = 6, seed=2021)\n",
    "xgb_best.fit(X_train, y_train)"
   ]
  },
  {
   "cell_type": "code",
   "execution_count": 59,
   "id": "dd9c7040",
   "metadata": {},
   "outputs": [],
   "source": [
    "y_train_preds = xgb_best.predict(X_train)\n",
    "y_test_preds = xgb_best.predict(X_test)"
   ]
  },
  {
   "cell_type": "code",
   "execution_count": 60,
   "id": "05a83653",
   "metadata": {},
   "outputs": [
    {
     "name": "stdout",
     "output_type": "stream",
     "text": [
      "     Set    Recall  Precision\n",
      "0  Train  0.986690   0.986820\n",
      "1   Test  0.847222   0.848961\n"
     ]
    }
   ],
   "source": [
    "print(get_metrics(xgb_best, X_train, X_test, y_train, y_test))"
   ]
  },
  {
   "cell_type": "code",
   "execution_count": 61,
   "id": "28c705b7",
   "metadata": {},
   "outputs": [
    {
     "data": {
      "image/png": "[encoded data removed]",
      "text/plain": [
       "<Figure size 1152x648 with 1 Axes>"
      ]
     },
     "metadata": {
      "needs_background": "light"
     },
     "output_type": "display_data"
    }
   ],
   "source": [
    "plot_importance(y, xgb_best, 35)"
   ]
  },
  {
   "cell_type": "code",
   "execution_count": 62,
   "id": "c374bf34",
   "metadata": {},
   "outputs": [
    {
     "data": {
      "text/plain": [
       "Text(0, 0.5, 'Predictions from Model')"
      ]
     },
     "execution_count": 62,
     "metadata": {},
     "output_type": "execute_result"
    },
    {
     "data": {
      "image/png": "[encoded data removed]",
      "text/plain": [
       "<Figure size 864x864 with 1 Axes>"
      ]
     },
     "metadata": {
      "needs_background": "light"
     },
     "output_type": "display_data"
    }
   ],
   "source": [
    "plt.figure(figsize = (12,12))\n",
    "#plt.scatter(y_test, y_test_preds, color = 'r')\n",
    "plt.scatter(y_train, y_train_preds, color = 'b')\n",
    "plt.xlabel('True Test Values')\n",
    "plt.ylabel('Predictions from Model')\n"
   ]
  },
  {
   "cell_type": "code",
   "execution_count": 63,
   "id": "ff06e8b9",
   "metadata": {},
   "outputs": [
    {
     "data": {
      "text/plain": [
       "Text(0, 0.5, 'Predictions from Model')"
      ]
     },
     "execution_count": 63,
     "metadata": {},
     "output_type": "execute_result"
    },
    {
     "data": {
      "image/png": "[encoded data removed]",
      "text/plain": [
       "<Figure size 864x864 with 1 Axes>"
      ]
     },
     "metadata": {
      "needs_background": "light"
     },
     "output_type": "display_data"
    }
   ],
   "source": [
    "plt.figure(figsize = (12,12))\n",
    "plt.scatter(y_test, y_test_preds, color = 'r')\n",
    "#plt.scatter(y_train, y_train_preds, color = 'b')\n",
    "plt.xlabel('True Test Values')\n",
    "plt.ylabel('Predictions from Model')"
   ]
  },
  {
   "cell_type": "code",
   "execution_count": null,
   "id": "c0a5babe",
   "metadata": {},
   "outputs": [],
   "source": []
  }
 ],
 "metadata": {
  "kernelspec": {
   "display_name": "Python 3 (ipykernel)",
   "language": "python",
   "name": "python3"
  },
  "language_info": {
   "codemirror_mode": {
    "name": "ipython",
    "version": 3
   },
   "file_extension": ".py",
   "mimetype": "text/x-python",
   "name": "python",
   "nbconvert_exporter": "python",
   "pygments_lexer": "ipython3",
   "version": "3.8.8"
  }
 },
 "nbformat": 4,
 "nbformat_minor": 5
}
